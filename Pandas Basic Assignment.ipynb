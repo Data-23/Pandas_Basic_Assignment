{
 "cells": [
  {
   "cell_type": "code",
   "execution_count": 4,
   "id": "98ded9ec",
   "metadata": {},
   "outputs": [],
   "source": [
    "#Q1"
   ]
  },
  {
   "cell_type": "code",
   "execution_count": 5,
   "id": "7b459d92",
   "metadata": {},
   "outputs": [
    {
     "name": "stdout",
     "output_type": "stream",
     "text": [
      "0     4\n",
      "1     8\n",
      "2    15\n",
      "3    23\n",
      "4    42\n",
      "dtype: int64\n"
     ]
    }
   ],
   "source": [
    "import pandas as pd\n",
    "\n",
    "l1 = [4,8,15,23,42]\n",
    "\n",
    "ser = pd.Series(l1)\n",
    "\n",
    "print(ser)"
   ]
  },
  {
   "cell_type": "code",
   "execution_count": null,
   "id": "9bb1cc51",
   "metadata": {},
   "outputs": [],
   "source": [
    "#Q2"
   ]
  },
  {
   "cell_type": "code",
   "execution_count": 7,
   "id": "9fb1abd5",
   "metadata": {},
   "outputs": [
    {
     "name": "stdout",
     "output_type": "stream",
     "text": [
      "0    a\n",
      "1    b\n",
      "2    c\n",
      "3    d\n",
      "4    e\n",
      "5    f\n",
      "6    g\n",
      "7    h\n",
      "8    i\n",
      "9    j\n",
      "dtype: object\n"
     ]
    }
   ],
   "source": [
    "l2 = [\"a\",\"b\",\"c\",\"d\",\"e\",\"f\",\"g\",\"h\",\"i\",\"j\"]\n",
    "\n",
    "ser1 = pd.Series(l2)\n",
    "\n",
    "print(ser1)"
   ]
  },
  {
   "cell_type": "code",
   "execution_count": null,
   "id": "d02112d7",
   "metadata": {},
   "outputs": [],
   "source": [
    " # Q3"
   ]
  },
  {
   "cell_type": "code",
   "execution_count": 12,
   "id": "3c7015af",
   "metadata": {},
   "outputs": [
    {
     "name": "stdout",
     "output_type": "stream",
     "text": [
      "     Name  Age  Gender\n",
      "0   Alice   25  Female\n",
      "1     Bob   30    Male\n",
      "2  Claire   27  Female\n"
     ]
    }
   ],
   "source": [
    "import pandas as pd\n",
    "\n",
    "data = [['Alice',25,'Female'],['Bob',30,'Male'],['Claire',27,'Female']]\n",
    "\n",
    "\n",
    "df = pd.DataFrame(data,columns=['Name','Age','Gender'])\n",
    "\n",
    "print(df)\n"
   ]
  },
  {
   "cell_type": "code",
   "execution_count": null,
   "id": "6a8302d0",
   "metadata": {},
   "outputs": [],
   "source": [
    "# Q4"
   ]
  },
  {
   "cell_type": "code",
   "execution_count": 13,
   "id": "68d2bbb9",
   "metadata": {},
   "outputs": [],
   "source": [
    "# DataFrame is a two-dimensional labeled data structure capable of holding data of different types (e.g., integers, floats, strings) in rows and columns, \n",
    "# Similar to a spreadsheet or SQL table. \n",
    "# It is essentially a collection of pandas Series objects, where each Series represents a column in the DataFrame. \n",
    "# DataFrames provide powerful functionalities for data manipulation, analysis, and cleaning."
   ]
  },
  {
   "cell_type": "code",
   "execution_count": null,
   "id": "667456d0",
   "metadata": {},
   "outputs": [],
   "source": [
    "# Q5"
   ]
  },
  {
   "cell_type": "code",
   "execution_count": null,
   "id": "58eb0be1",
   "metadata": {},
   "outputs": [],
   "source": [
    "# index(),insert(),columns(),between()\n",
    "# index()- it is used to change the index label in the series\n",
    "# insert()- it is used to insert new column in the dataframe\n",
    "# columns()- Returns the columns lables in the dataframe\n",
    "# between()- extracts rows where column values between predefined range"
   ]
  },
  {
   "cell_type": "code",
   "execution_count": null,
   "id": "902f62b1",
   "metadata": {},
   "outputs": [],
   "source": [
    "# Q6"
   ]
  },
  {
   "cell_type": "code",
   "execution_count": null,
   "id": "9977b6b2",
   "metadata": {},
   "outputs": [],
   "source": [
    "# Panel and Data Frame are Mutable but series are Immutable"
   ]
  },
  {
   "cell_type": "code",
   "execution_count": 16,
   "id": "a6d61b80",
   "metadata": {},
   "outputs": [
    {
     "name": "stdout",
     "output_type": "stream",
     "text": [
      "        Name Rating\n",
      "0      ayush   1200\n",
      "1      Aqdas   1500\n",
      "2   Prasanna   1700\n",
      "3  Abhipsita   1900\n"
     ]
    }
   ],
   "source": [
    "import pandas as pd\n",
    "\n",
    "\n",
    "name = ['ayush', 'Aqdas', 'Prasanna','Abhipsita']\n",
    "Rating = ['1200','1500','1700','1900']\n",
    "\n",
    "name_series = pd.Series(name)\n",
    "rating_series = pd.Series(Rating)\n",
    "\n",
    "frame = {'Name':name_series,'Rating': rating_series}\n",
    "\n",
    "Table = pd.DataFrame(frame)\n",
    "\n",
    "print(Table)"
   ]
  },
  {
   "cell_type": "code",
   "execution_count": null,
   "id": "6ca6be51",
   "metadata": {},
   "outputs": [],
   "source": []
  },
  {
   "cell_type": "code",
   "execution_count": null,
   "id": "245794bc",
   "metadata": {},
   "outputs": [],
   "source": []
  },
  {
   "cell_type": "code",
   "execution_count": null,
   "id": "ba76fe18",
   "metadata": {},
   "outputs": [],
   "source": []
  },
  {
   "cell_type": "code",
   "execution_count": null,
   "id": "54cc8aeb",
   "metadata": {},
   "outputs": [],
   "source": []
  }
 ],
 "metadata": {
  "kernelspec": {
   "display_name": "Python 3",
   "language": "python",
   "name": "python3"
  },
  "language_info": {
   "codemirror_mode": {
    "name": "ipython",
    "version": 3
   },
   "file_extension": ".py",
   "mimetype": "text/x-python",
   "name": "python",
   "nbconvert_exporter": "python",
   "pygments_lexer": "ipython3",
   "version": "3.11.3"
  }
 },
 "nbformat": 4,
 "nbformat_minor": 5
}
